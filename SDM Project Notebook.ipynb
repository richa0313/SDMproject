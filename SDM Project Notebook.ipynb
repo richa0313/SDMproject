{
 "cells": [
  {
   "cell_type": "markdown",
   "metadata": {},
   "source": [
    "## Predicting Airlines Stocks based on Oil Prices"
   ]
  },
  {
   "cell_type": "markdown",
   "metadata": {},
   "source": [
    "### I. Problem Statement"
   ]
  },
  {
   "cell_type": "markdown",
   "metadata": {},
   "source": [
    "As jet fuel price is the largest cost in airlines, it can affect on their profit and as a result on their shares price in the stock exchange. If the price of crude oil climbed to \\$100 a barrel, for example, jet fuel would surpass \\$3 per gallon. A passenger flying coast to coast in the U.S. will pay \\$50 extra. For cargo carriers the implication could be loss of market share to ground carriers and a sharp decline in profits. Therefore, airline industry is very sensitive to oil price fluctuations.\n",
    "\n",
    "In this experiment, in addition to examining this relationship contemporaneously, we also investigate whether any predictive powers are present between oil prices and airline stocks"
   ]
  },
  {
   "cell_type": "markdown",
   "metadata": {},
   "source": [
    "#### 1. Include all required libraries"
   ]
  },
  {
   "cell_type": "code",
   "execution_count": 44,
   "metadata": {
    "collapsed": false
   },
   "outputs": [],
   "source": [
    "library(sqldf)\n",
    "library(caret)\n",
    "library(gbm)\n",
    "library(ggplot2)"
   ]
  },
  {
   "cell_type": "markdown",
   "metadata": {},
   "source": [
    "#### 2. Read in all datasets"
   ]
  },
  {
   "cell_type": "code",
   "execution_count": null,
   "metadata": {
    "collapsed": false
   },
   "outputs": [],
   "source": [
    "setwd('/Users/birupakhya/Documents/Projects/SDMproject/')\n",
    "#reading file and setting the junks values to NA\n",
    "jetfuel <- read.csv(file = 'jetfuelprices.csv', skip = 12, header = T, as.is = T, na.strings = \"#N/A\")\n",
    "delta <- read.csv(file = 'Deltastocks.csv', skip = 0, header = T, as.is = T, na.strings = \"NA\")\n",
    "sp500 <- read.csv(file = 'Proj-SP500.csv', skip = 0, header = T, as.is = T, na.strings = \"NA\")\n",
    "brentoil <- read.csv(file = 'brentoilprices.csv', skip = 12, header = T, as.is = T, na.strings = c(\"NA\", \"#N/A\" ))"
   ]
  },
  {
   "cell_type": "markdown",
   "metadata": {},
   "source": [
    "### II. Data Understanding & Quality Check"
   ]
  },
  {
   "cell_type": "markdown",
   "metadata": {},
   "source": [
    "#### 1. Check Missing values"
   ]
  },
  {
   "cell_type": "code",
   "execution_count": null,
   "metadata": {
    "collapsed": false
   },
   "outputs": [],
   "source": [
    "#checking the NA values\n",
    "colSums(is.na(jetfuel))\n",
    "colSums(is.na(delta))\n",
    "colSums(is.na(sp500))\n",
    "colSums(is.na(brentoil))"
   ]
  },
  {
   "cell_type": "markdown",
   "metadata": {},
   "source": [
    "There are 91 and 90 missing values in the Jet Fuel and Brent Oil datasets. We will take care of them in a later section. Next, let us do some time series analysis of the prices of all variables"
   ]
  },
  {
   "cell_type": "markdown",
   "metadata": {},
   "source": [
    "### III. Data Preparation"
   ]
  },
  {
   "cell_type": "markdown",
   "metadata": {},
   "source": [
    "#### 1. Ensure variables have the correct classes"
   ]
  },
  {
   "cell_type": "code",
   "execution_count": null,
   "metadata": {
    "collapsed": true
   },
   "outputs": [],
   "source": [
    "#setting up the dates format and extracting required columns\n",
    "sp500$Date <- as.Date(sp500$Date, '%Y-%m-%d')\n",
    "sp500Adj <- sp500[,c('Date','Adj.Close')]\n",
    "colnames(sp500Adj)[2] <- 'sp500Adj.Close'\n",
    "\n",
    "delta$Date <- as.Date(delta$Date, '%Y-%m-%d')\n",
    "deltaAdj <- delta[,c('Date','Adj.Close')]\n",
    "colnames(deltaAdj)[2] <- 'DeltaAdj.Close'\n",
    "\n",
    "jetfuel$DATE <- as.Date(jetfuel$DATE, '%Y-%m-%d')\n",
    "colnames(jetfuel)[2] <- 'JetFuelValue'\n",
    "brentoil$DATE <- as.Date(brentoil$DATE, '%Y-%m-%d')\n",
    "colnames(brentoil)[2] <- 'BrentOilValue'"
   ]
  },
  {
   "cell_type": "markdown",
   "metadata": {},
   "source": [
    "#### 2. Impute missing values"
   ]
  },
  {
   "cell_type": "code",
   "execution_count": null,
   "metadata": {
    "collapsed": true
   },
   "outputs": [],
   "source": [
    "#converting the NAs to mean values of the column - Imputation\n",
    "jetfuel[is.na(jetfuel[,2]), 2] <- mean(jetfuel[,2], na.rm = TRUE)\n",
    "brentoil[is.na(jetfuel[,2]), 2] <- mean(brentoil[,2], na.rm = TRUE)"
   ]
  },
  {
   "cell_type": "markdown",
   "metadata": {},
   "source": [
    "#### 3. Select data for common dates"
   ]
  },
  {
   "cell_type": "code",
   "execution_count": null,
   "metadata": {
    "collapsed": false
   },
   "outputs": [],
   "source": [
    "finaldata <- sqldf('SELECT *\n",
    "                   FROM sp500Adj \n",
    "                                 INNER JOIN deltaAdj ON (sp500Adj.Date = deltaAdj.Date)\n",
    "                                 INNER JOIN brentoil ON (sp500Adj.Date = brentoil.DATE)\n",
    "                                 INNER JOIN jetfuel ON (sp500Adj.Date = jetfuel.DATE)')"
   ]
  },
  {
   "cell_type": "markdown",
   "metadata": {},
   "source": [
    "#### 4. Create dummy variables"
   ]
  },
  {
   "cell_type": "code",
   "execution_count": null,
   "metadata": {
    "collapsed": true
   },
   "outputs": [],
   "source": [
    "# compute price change for snp500 data\n",
    "snp_pc1 = c(); snp_pc2= c(); snp_pc3 = c(); snp_pc4 = c(); snp_pc5 = c();\n",
    "for (i in 7:nrow(finaldata))\n",
    "  {\n",
    "  snp_pc1[i] <- (finaldata$sp500Adj.Close[i - 1] - finaldata$sp500Adj.Close[i - 2])/finaldata$sp500Adj.Close[i - 2]\n",
    "  snp_pc2[i] <- (finaldata$sp500Adj.Close[i - 2] - finaldata$sp500Adj.Close[i - 3])/finaldata$sp500Adj.Close[i - 3]\n",
    "  snp_pc3[i] <- (finaldata$sp500Adj.Close[i - 3] - finaldata$sp500Adj.Close[i - 4])/(finaldata$sp500Adj.Close[i - 4])\n",
    "  snp_pc4[i] <- (finaldata$sp500Adj.Close[i - 4] - finaldata$sp500Adj.Close[i - 5])/(finaldata$sp500Adj.Close[i - 5])\n",
    "  snp_pc5[i] <- (finaldata$sp500Adj.Close[i - 5] - finaldata$sp500Adj.Close[i - 6])/(finaldata$sp500Adj.Close[i - 6])\n",
    "  }\n",
    "\n",
    "# compute price change for brent oil\n",
    "brent_pc1 = c(); brent_pc2= c(); brent_pc3 = c(); brent_pc4 = c(); brent_pc5 = c();\n",
    "for (i in 7:nrow(finaldata))\n",
    "{\n",
    "  brent_pc1[i] <- (finaldata$BrentOilValue[i - 1] - finaldata$BrentOilValue[i - 2])/(finaldata$BrentOilValue[i - 2])\n",
    "  brent_pc2[i] <- (finaldata$BrentOilValue[i - 2] - finaldata$BrentOilValue[i - 3])/(finaldata$BrentOilValue[i - 3])\n",
    "  brent_pc3[i] <- (finaldata$BrentOilValue[i - 3] - finaldata$BrentOilValue[i - 4])/(finaldata$BrentOilValue[i - 4])\n",
    "  brent_pc4[i] <- (finaldata$BrentOilValue[i - 4] - finaldata$BrentOilValue[i - 5])/(finaldata$BrentOilValue[i - 5])\n",
    "  brent_pc5[i] <- (finaldata$BrentOilValue[i - 5] - finaldata$BrentOilValue[i - 6])/(finaldata$BrentOilValue[i - 6])\n",
    "}\n",
    "\n",
    "\n",
    "# compute price change for jet fuel oil\n",
    "jetfuel_pc1 = c(); jetfuel_pc2= c(); jetfuel_pc3 = c(); jetfuel_pc4 = c(); jetfuel_pc5 = c();\n",
    "for (i in 7:nrow(finaldata))\n",
    "{\n",
    "  jetfuel_pc1[i] <- (finaldata$JetFuelValue[i - 1] - finaldata$JetFuelValue[i - 2])/(finaldata$JetFuelValue[i - 2])\n",
    "  jetfuel_pc2[i] <- (finaldata$JetFuelValue[i - 2] - finaldata$JetFuelValue[i - 3])/(finaldata$JetFuelValue[i - 3])\n",
    "  jetfuel_pc3[i] <- (finaldata$JetFuelValue[i - 3] - finaldata$JetFuelValue[i - 4])/(finaldata$JetFuelValue[i - 4])\n",
    "  jetfuel_pc4[i] <- (finaldata$JetFuelValue[i - 4] - finaldata$JetFuelValue[i - 5])/(finaldata$JetFuelValue[i - 5])\n",
    "  jetfuel_pc5[i] <- (finaldata$JetFuelValue[i - 5] - finaldata$JetFuelValue[i - 6])/(finaldata$JetFuelValue[i - 6])\n",
    "}\n",
    "\n",
    "# compute price change for Delta adjusted close\n",
    "delta_pc1 = c(); delta_pc2= c(); delta_pc3 = c(); delta_pc4 = c(); delta_pc5 = c();\n",
    "for (i in 7:nrow(finaldata))\n",
    "{\n",
    "  delta_pc1[i] <- (finaldata$DeltaAdj.Close[i - 1] - finaldata$DeltaAdj.Close[i - 2])/(finaldata$DeltaAdj.Close[i - 2])\n",
    "}"
   ]
  },
  {
   "cell_type": "markdown",
   "metadata": {},
   "source": [
    "#### 5. Merge dataframes"
   ]
  },
  {
   "cell_type": "code",
   "execution_count": null,
   "metadata": {
    "collapsed": true
   },
   "outputs": [],
   "source": [
    "#created dataset\n",
    "workdata <- data.frame(snp_pc1, snp_pc2, snp_pc3, snp_pc4, snp_pc5, brent_pc1, brent_pc2, brent_pc3, brent_pc4, brent_pc5, jetfuel_pc1, jetfuel_pc2, jetfuel_pc3, jetfuel_pc4, jetfuel_pc5, delta_pc1 )\n",
    "workdata <- workdata[7:nrow(workdata),]"
   ]
  },
  {
   "cell_type": "markdown",
   "metadata": {},
   "source": [
    "#### 6. Create partitions"
   ]
  },
  {
   "cell_type": "code",
   "execution_count": null,
   "metadata": {
    "collapsed": true
   },
   "outputs": [],
   "source": [
    "#partition\n",
    "rnum <- (runif(1, .60, .70))\n",
    "part <-sample(1:nrow(workdata), rnum * nrow(workdata))\n",
    "trng <- workdata[part,]\n",
    "test <- workdata[-part,]"
   ]
  },
  {
   "cell_type": "markdown",
   "metadata": {},
   "source": [
    "## IV. Modelling & Evaluation"
   ]
  },
  {
   "cell_type": "markdown",
   "metadata": {},
   "source": [
    "#### 1. Create a Regression Model"
   ]
  },
  {
   "cell_type": "code",
   "execution_count": null,
   "metadata": {
    "collapsed": false
   },
   "outputs": [],
   "source": [
    "#perform regression\n",
    "linear.reg <- lm(delta_pc1 ~  ., data = trng)\n",
    "summary(linear.reg);\n",
    "#root mean square error\n",
    "linear.rmse  <- sqrt(mean(linear.reg$residuals)^2);\n",
    "#predicting the test data\n",
    "linear.predict <- predict(linear.reg,test)"
   ]
  },
  {
   "cell_type": "markdown",
   "metadata": {},
   "source": [
    "#### 2. Modelling using Logistic Regression"
   ]
  },
  {
   "cell_type": "markdown",
   "metadata": {},
   "source": [
    "#### 2.1 Simple Logistic Regression"
   ]
  },
  {
   "cell_type": "code",
   "execution_count": null,
   "metadata": {
    "collapsed": false
   },
   "outputs": [],
   "source": [
    "avg <- mean(workdata$delta_pc1)\n",
    "workdata$delta_01 <- ifelse(workdata$delta_pc1 >= avg, 1, 0)\n",
    "\n",
    "#partition\n",
    "rnum <- (runif(1, .60, .70))\n",
    "part <-sample(1:nrow(workdata), rnum * nrow(workdata))\n",
    "trng <- workdata[part,]\n",
    "test <- workdata[-part,]\n",
    "\n",
    "lr.delta <- glm(delta_01 ~ . -delta_pc1, family=binomial(link=\"logit\"), data=trng)\n",
    "summary(lr.delta)"
   ]
  },
  {
   "cell_type": "markdown",
   "metadata": {},
   "source": [
    "#### 2.2. Stepwise Logistic Regression"
   ]
  },
  {
   "cell_type": "code",
   "execution_count": null,
   "metadata": {
    "collapsed": false
   },
   "outputs": [],
   "source": [
    "#iterations of glm by removing the non significant columns one by one, starting with least significant\n",
    "lr.delta.01 <- glm(delta_01 ~ snp_pc1 + brent_pc1 + brent_pc2 + brent_pc3 + jetfuel_pc1 + jetfuel_pc3 + jetfuel_pc4, family=binomial(link=\"logit\"), data=trng)\n",
    "summary(lr.delta.01)\n",
    "\n",
    "lr.delta.02 <- glm(delta_01 ~ snp_pc1 + brent_pc1 + brent_pc3 + jetfuel_pc1, family=binomial(link=\"logit\"), data=trng)\n",
    "summary(lr.delta.02)"
   ]
  },
  {
   "cell_type": "code",
   "execution_count": null,
   "metadata": {
    "collapsed": false
   },
   "outputs": [],
   "source": [
    "#Let's predict\n",
    "pred1 <- predict(lr.delta , newdata=test, type=\"response\")\n",
    "pred2 <- predict(lr.delta.01 , newdata=test, type=\"response\")\n",
    "pred3 <- predict(lr.delta.02 , newdata=test, type=\"response\")\n",
    "\n",
    "pred_v <- c(pred1,pred2,pred3)\n",
    "\n",
    "# #converting predictions > 50% to 1 and remaining to 0\n",
    "pred_1 <- ifelse(pred1 > 0.5,1,0)\n",
    "pred_2 <- ifelse(pred2 > 0.5,1,0)\n",
    "pred_3 <- ifelse(pred3 > 0.5,1,0)\n",
    "\n",
    "# #converting predictions > 50% to 1 and remaining to 0\n",
    "# pred_1 <- ifelse(pred1 > avg,1,0)\n",
    "# pred_2 <- ifelse(pred2 > avg,1,0)\n",
    "# pred_3 <- ifelse(pred3 > avg,1,0)"
   ]
  },
  {
   "cell_type": "markdown",
   "metadata": {},
   "source": [
    "Comparison of model accuracy of different steps."
   ]
  },
  {
   "cell_type": "code",
   "execution_count": null,
   "metadata": {
    "collapsed": false
   },
   "outputs": [],
   "source": [
    "#measuring accuracy Accuracy : 0.6752, 0.6907, 0.6874\n",
    "confusionMatrix(test$delta_01, pred_1)\n",
    "confusionMatrix(test$delta_01, pred_2)\n",
    "confusionMatrix(test$delta_01, pred_3)"
   ]
  },
  {
   "cell_type": "markdown",
   "metadata": {},
   "source": [
    "#### 3. Modelling using Recursive Partition Tree"
   ]
  },
  {
   "cell_type": "code",
   "execution_count": null,
   "metadata": {
    "collapsed": false
   },
   "outputs": [],
   "source": [
    "library('rpart')\n",
    "model.rpt <- rpart(delta_01 ~ snp_pc1 + snp_pc4 + snp_pc5 + brent_pc1 + brent_pc2 + brent_pc4 + jetfuel_pc5 + jetfuel_pc3 + jetfuel_pc1, data=trng, cp=0)\n",
    "#plot(model.rpt)\n",
    "#text(model.rpt, use.n= T, digits=3, cex=0.6)\n",
    "prediction.rpt <- predict(model.rpt, newdata = test, type=\"vector\")\n",
    "pred_rpt <- ifelse(prediction.rpt > 0.5,1,0)\n",
    "# printcp(model.rpt)\n",
    "confusionMatrix(test$delta_01, pred_rpt)"
   ]
  },
  {
   "cell_type": "markdown",
   "metadata": {},
   "source": [
    "#### 4. Modelling using Gradient Boosting"
   ]
  },
  {
   "cell_type": "code",
   "execution_count": null,
   "metadata": {
    "collapsed": false
   },
   "outputs": [],
   "source": [
    "model.gbm <- gbm(delta_01 ~ snp_pc1 + brent_pc1 + brent_pc2 + brent_pc3 + jetfuel_pc1 + jetfuel_pc3 + jetfuel_pc4, data=trng , n.trees=5000, interaction.depth =6, shrinkage=0.01)\n",
    "prediction.gbm <- predict(model.gbm, newdata = test, n.trees=5000, type=\"response\")\n",
    "# head(prediction.gbm[])\n",
    "# tail(prediction.gbm[])\n",
    "# summary(prediction.gbm)\n",
    "\n",
    "pred_gbm <- ifelse(prediction.gbm > 0.42,1,0)\n",
    "# printcp(model.rpt)\n",
    "# table(pred_gbm, test$delta_01)\n",
    "\n",
    "# accuracy remains around 61-62%\n",
    "confusionMatrix(pred_gbm, test$delta_01)"
   ]
  }
 ],
 "metadata": {
  "kernelspec": {
   "display_name": "R",
   "language": "R",
   "name": "ir"
  },
  "language_info": {
   "codemirror_mode": "r",
   "file_extension": ".r",
   "mimetype": "text/x-r-source",
   "name": "R",
   "pygments_lexer": "r",
   "version": "3.3.2"
  }
 },
 "nbformat": 4,
 "nbformat_minor": 2
}
