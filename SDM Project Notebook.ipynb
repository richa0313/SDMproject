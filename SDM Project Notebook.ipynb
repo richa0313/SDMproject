{
 "cells": [
  {
   "cell_type": "markdown",
   "metadata": {},
   "source": [
    "## Predicting Airlines Stocks based on Oil Prices"
   ]
  },
  {
   "cell_type": "markdown",
   "metadata": {},
   "source": [
    "#### 1. Include all libraries"
   ]
  },
  {
   "cell_type": "code",
   "execution_count": null,
   "metadata": {
    "collapsed": false
   },
   "outputs": [],
   "source": [
    "library(sqldf)"
   ]
  },
  {
   "cell_type": "markdown",
   "metadata": {},
   "source": [
    "#### 2. Read in all datasets"
   ]
  },
  {
   "cell_type": "code",
   "execution_count": 4,
   "metadata": {
    "collapsed": false
   },
   "outputs": [],
   "source": [
    "setwd('/Users/birupakhya/Documents/Projects/SDMproject/')\n",
    "delta = read.csv('Deltastocks.csv', skip = 0, header = T, as.is = T, na.strings = \"NA\")\n",
    "jetfuelprices = read.csv('jetfuelprices.csv', skip = 12, header = T, as.is = T, na.strings = \"#N/A\")\n",
    "brentprices = read.csv('DCOILBRENTEU.csv',skip = 0, header = T, as.is = T, na.strings = \".\")"
   ]
  },
  {
   "cell_type": "markdown",
   "metadata": {},
   "source": [
    "### Data Quality Check"
   ]
  },
  {
   "cell_type": "markdown",
   "metadata": {},
   "source": [
    "#### 3. Check Missing values"
   ]
  },
  {
   "cell_type": "code",
   "execution_count": 2,
   "metadata": {
    "collapsed": false
   },
   "outputs": [
    {
     "data": {
      "text/html": [
       "<dl class=dl-horizontal>\n",
       "\t<dt>Date</dt>\n",
       "\t\t<dd>0</dd>\n",
       "\t<dt>Open</dt>\n",
       "\t\t<dd>0</dd>\n",
       "\t<dt>High</dt>\n",
       "\t\t<dd>0</dd>\n",
       "\t<dt>Low</dt>\n",
       "\t\t<dd>0</dd>\n",
       "\t<dt>Close</dt>\n",
       "\t\t<dd>0</dd>\n",
       "\t<dt>Volume</dt>\n",
       "\t\t<dd>0</dd>\n",
       "\t<dt>Adj.Close</dt>\n",
       "\t\t<dd>0</dd>\n",
       "</dl>\n"
      ],
      "text/latex": [
       "\\begin{description*}\n",
       "\\item[Date] 0\n",
       "\\item[Open] 0\n",
       "\\item[High] 0\n",
       "\\item[Low] 0\n",
       "\\item[Close] 0\n",
       "\\item[Volume] 0\n",
       "\\item[Adj.Close] 0\n",
       "\\end{description*}\n"
      ],
      "text/markdown": [
       "Date\n",
       ":   0Open\n",
       ":   0High\n",
       ":   0Low\n",
       ":   0Close\n",
       ":   0Volume\n",
       ":   0Adj.Close\n",
       ":   0\n",
       "\n"
      ],
      "text/plain": [
       "     Date      Open      High       Low     Close    Volume Adj.Close \n",
       "        0         0         0         0         0         0         0 "
      ]
     },
     "metadata": {},
     "output_type": "display_data"
    },
    {
     "data": {
      "text/html": [
       "<dl class=dl-horizontal>\n",
       "\t<dt>DATE</dt>\n",
       "\t\t<dd>0</dd>\n",
       "\t<dt>VALUE</dt>\n",
       "\t\t<dd>91</dd>\n",
       "</dl>\n"
      ],
      "text/latex": [
       "\\begin{description*}\n",
       "\\item[DATE] 0\n",
       "\\item[VALUE] 91\n",
       "\\end{description*}\n"
      ],
      "text/markdown": [
       "DATE\n",
       ":   0VALUE\n",
       ":   91\n",
       "\n"
      ],
      "text/plain": [
       " DATE VALUE \n",
       "    0    91 "
      ]
     },
     "metadata": {},
     "output_type": "display_data"
    },
    {
     "data": {
      "text/html": [
       "<dl class=dl-horizontal>\n",
       "\t<dt>DATE</dt>\n",
       "\t\t<dd>0</dd>\n",
       "\t<dt>DCOILBRENTEU</dt>\n",
       "\t\t<dd>35</dd>\n",
       "</dl>\n"
      ],
      "text/latex": [
       "\\begin{description*}\n",
       "\\item[DATE] 0\n",
       "\\item[DCOILBRENTEU] 35\n",
       "\\end{description*}\n"
      ],
      "text/markdown": [
       "DATE\n",
       ":   0DCOILBRENTEU\n",
       ":   35\n",
       "\n"
      ],
      "text/plain": [
       "        DATE DCOILBRENTEU \n",
       "           0           35 "
      ]
     },
     "metadata": {},
     "output_type": "display_data"
    }
   ],
   "source": [
    "#check missing values\n",
    "colSums(is.na(delta))\n",
    "colSums(is.na(jetfuelprices))\n",
    "colSums(is.na(brentprices))"
   ]
  },
  {
   "cell_type": "code",
   "execution_count": null,
   "metadata": {
    "collapsed": true
   },
   "outputs": [],
   "source": []
  }
 ],
 "metadata": {
  "kernelspec": {
   "display_name": "R",
   "language": "R",
   "name": "ir"
  },
  "language_info": {
   "codemirror_mode": "r",
   "file_extension": ".r",
   "mimetype": "text/x-r-source",
   "name": "R",
   "pygments_lexer": "r",
   "version": "3.3.2"
  }
 },
 "nbformat": 4,
 "nbformat_minor": 2
}
