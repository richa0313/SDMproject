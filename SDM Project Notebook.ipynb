{
 "cells": [
  {
   "cell_type": "markdown",
   "metadata": {},
   "source": [
    "## Predicting Airlines Stocks based on Oil Prices"
   ]
  },
  {
   "cell_type": "markdown",
   "metadata": {},
   "source": [
    "#### 1. Include all libraries"
   ]
  },
  {
   "cell_type": "code",
   "execution_count": null,
   "metadata": {
    "collapsed": false
   },
   "outputs": [],
   "source": [
    "library(sqldf)"
   ]
  },
  {
   "cell_type": "markdown",
   "metadata": {},
   "source": [
    "#### 2. Read in all datasets"
   ]
  },
  {
   "cell_type": "code",
   "execution_count": null,
   "metadata": {
    "collapsed": false
   },
   "outputs": [],
   "source": [
    "delta = read.csv('/Users/birupakhya/Documents/Projects/SDMproject/Deltastocks.csv', skip = 0, header = T, as.is = T, na.strings = \"NA\")\n",
    "jetfuelprices = read.csv('/Users/birupakhya/Documents/Projects/SDMproject/jetfuelprices.csv', skip = 12, header = T, as.is = T, na.strings = \"\")\n",
    "brentprices = read.csv('/Users/birupakhya/Documents/Projects/SDMproject/DCOILBRENTEU.csv',skip = 0, header = T, as.is = T, na.strings = \".\")"
   ]
  },
  {
   "cell_type": "markdown",
   "metadata": {},
   "source": [
    "#### 3. Check Missing values"
   ]
  },
  {
   "cell_type": "code",
   "execution_count": null,
   "metadata": {
    "collapsed": false
   },
   "outputs": [],
   "source": [
    "#check missing values\n",
    "colSums(is.na(delta))\n",
    "colSums(is.na(jetfuelprices))\n",
    "colSums(is.na(brentprices))"
   ]
  }
 ],
 "metadata": {
  "kernelspec": {
   "display_name": "R",
   "language": "R",
   "name": "ir"
  },
  "language_info": {
   "codemirror_mode": "r",
   "file_extension": ".r",
   "mimetype": "text/x-r-source",
   "name": "R",
   "pygments_lexer": "r",
   "version": "3.3.2"
  }
 },
 "nbformat": 4,
 "nbformat_minor": 2
}
